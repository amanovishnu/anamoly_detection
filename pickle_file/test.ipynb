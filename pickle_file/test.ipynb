{
 "cells": [
  {
   "cell_type": "code",
   "execution_count": 92,
   "metadata": {},
   "outputs": [],
   "source": [
    "import pandas as pd\n",
    "import joblib\n",
    "import numpy as np"
   ]
  },
  {
   "cell_type": "code",
   "execution_count": 109,
   "metadata": {},
   "outputs": [],
   "source": [
    "df = pd.read_csv(\"cleaned.csv\")\n",
    "rd = pd.read_csv(\"Anamoly.csv\")\n",
    "model = joblib.load('model.pkl')"
   ]
  },
  {
   "cell_type": "code",
   "execution_count": 113,
   "metadata": {},
   "outputs": [
    {
     "data": {
      "text/plain": [
       "Index(['src_bytes', 'dst_bytes', 'dst_host_srv_count', 'FLAG_SF',\n",
       "       'dst_host_diff_srv_rate', 'dst_host_rerror_rate', 'diff_srv_rate',\n",
       "       'count', 'rerror_rate', 'dst_host_serror_rate', 'target'],\n",
       "      dtype='object')"
      ]
     },
     "execution_count": 113,
     "metadata": {},
     "output_type": "execute_result"
    }
   ],
   "source": [
    "df.columns"
   ]
  },
  {
   "cell_type": "code",
   "execution_count": 112,
   "metadata": {},
   "outputs": [
    {
     "data": {
      "text/plain": [
       "Index(['duration', 'protocol_type', 'service', 'flag', 'src_bytes',\n",
       "       'dst_bytes', 'land', 'wrong_fragment', 'hot', 'num_failed_logins',\n",
       "       'logged_in', 'num_compromised', 'root_shell', 'su_attempted',\n",
       "       'num_root', 'num_file_creations', 'num_shells', 'num_access_files',\n",
       "       'num_outbound_cmds', 'is_guest_login', 'count', 'srv_count',\n",
       "       'serror_rate', 'srv_serror_rate', 'rerror_rate', 'srv_rerror_rate',\n",
       "       'same_srv_rate', 'diff_srv_rate', 'srv_diff_host_rate',\n",
       "       'dst_host_count', 'dst_host_srv_count', 'dst_host_same_srv_rate',\n",
       "       'dst_host_diff_srv_rate', 'dst_host_same_src_port_rate',\n",
       "       'dst_host_srv_diff_host_rate', 'dst_host_serror_rate',\n",
       "       'dst_host_srv_serror_rate', 'dst_host_rerror_rate',\n",
       "       'dst_host_srv_rerror_rate', 'class'],\n",
       "      dtype='object')"
      ]
     },
     "execution_count": 112,
     "metadata": {},
     "output_type": "execute_result"
    }
   ],
   "source": [
    "rd.columns"
   ]
  },
  {
   "cell_type": "code",
   "execution_count": 108,
   "metadata": {},
   "outputs": [
    {
     "name": "stdout",
     "output_type": "stream",
     "text": [
      "[[0.0 0.0 10.0 False 0.06 1.0 0.06 229 1.0 0.0]] Actual -> 1, Predicted -> 1\n",
      "[[0.0 0.0 1.0 False 0.06 1.0 0.06 136 1.0 0.0]] Actual -> 1, Predicted -> 1\n",
      "[[717.5 0.0 86.0 True 0.04 0.0 0.0 1 0.0 0.0]] Actual -> 0, Predicted -> 1\n",
      "[[20.0 0.0 57.0 True 0.0 0.0 0.0 1 0.0 0.0]] Actual -> 1, Predicted -> 1\n",
      "[[0.0 15.0 86.0 False 0.17 0.83 0.0 1 1.0 0.0]] Actual -> 1, Predicted -> 1\n",
      "[[267.0 1502.5 255.0 True 0.0 0.0 0.0 4 0.0 0.01]] Actual -> 0, Predicted -> 0\n",
      "[[717.5 387.0 28.0 True 0.72 0.72 0.0 1 0.0 0.0]] Actual -> 0, Predicted -> 0\n",
      "[[129.0 174.0 255.0 True 0.0 0.02 0.0 1 0.0 0.01]] Actual -> 1, Predicted -> 0\n",
      "[[327.0 467.0 255.0 True 0.0 0.0 0.0 33 0.0 0.0]] Actual -> 0, Predicted -> 0\n",
      "[[26.0 157.0 26.0 True 0.08 0.0 0.0 1 0.0 0.0]] Actual -> 1, Predicted -> 1\n"
     ]
    },
    {
     "name": "stderr",
     "output_type": "stream",
     "text": [
      "c:\\Users\\amano\\miniconda3\\envs\\amlEnv\\Lib\\site-packages\\sklearn\\base.py:493: UserWarning: X does not have valid feature names, but DecisionTreeClassifier was fitted with feature names\n",
      "  warnings.warn(\n",
      "c:\\Users\\amano\\miniconda3\\envs\\amlEnv\\Lib\\site-packages\\sklearn\\base.py:493: UserWarning: X does not have valid feature names, but DecisionTreeClassifier was fitted with feature names\n",
      "  warnings.warn(\n",
      "c:\\Users\\amano\\miniconda3\\envs\\amlEnv\\Lib\\site-packages\\sklearn\\base.py:493: UserWarning: X does not have valid feature names, but DecisionTreeClassifier was fitted with feature names\n",
      "  warnings.warn(\n",
      "c:\\Users\\amano\\miniconda3\\envs\\amlEnv\\Lib\\site-packages\\sklearn\\base.py:493: UserWarning: X does not have valid feature names, but DecisionTreeClassifier was fitted with feature names\n",
      "  warnings.warn(\n",
      "c:\\Users\\amano\\miniconda3\\envs\\amlEnv\\Lib\\site-packages\\sklearn\\base.py:493: UserWarning: X does not have valid feature names, but DecisionTreeClassifier was fitted with feature names\n",
      "  warnings.warn(\n",
      "c:\\Users\\amano\\miniconda3\\envs\\amlEnv\\Lib\\site-packages\\sklearn\\base.py:493: UserWarning: X does not have valid feature names, but DecisionTreeClassifier was fitted with feature names\n",
      "  warnings.warn(\n",
      "c:\\Users\\amano\\miniconda3\\envs\\amlEnv\\Lib\\site-packages\\sklearn\\base.py:493: UserWarning: X does not have valid feature names, but DecisionTreeClassifier was fitted with feature names\n",
      "  warnings.warn(\n",
      "c:\\Users\\amano\\miniconda3\\envs\\amlEnv\\Lib\\site-packages\\sklearn\\base.py:493: UserWarning: X does not have valid feature names, but DecisionTreeClassifier was fitted with feature names\n",
      "  warnings.warn(\n",
      "c:\\Users\\amano\\miniconda3\\envs\\amlEnv\\Lib\\site-packages\\sklearn\\base.py:493: UserWarning: X does not have valid feature names, but DecisionTreeClassifier was fitted with feature names\n",
      "  warnings.warn(\n",
      "c:\\Users\\amano\\miniconda3\\envs\\amlEnv\\Lib\\site-packages\\sklearn\\base.py:493: UserWarning: X does not have valid feature names, but DecisionTreeClassifier was fitted with feature names\n",
      "  warnings.warn(\n"
     ]
    }
   ],
   "source": [
    "for value in df.head(10).values:\n",
    "    input_data = np.array(value[:-1]).reshape(1,-1)\n",
    "    print(input_data, f'Actual -> {value[-1]}, Predicted -> {model.predict(input_data)[0]}')"
   ]
  },
  {
   "cell_type": "code",
   "execution_count": 105,
   "metadata": {},
   "outputs": [
    {
     "name": "stdout",
     "output_type": "stream",
     "text": [
      "[[7.175e+02 0.000e+00 8.600e+01 1.000e+00 4.000e-02 0.000e+00 0.000e+00\n",
      "  1.000e+00 0.000e+00 0.000e+00]]\n",
      "1\n"
     ]
    },
    {
     "name": "stderr",
     "output_type": "stream",
     "text": [
      "c:\\Users\\amano\\miniconda3\\envs\\amlEnv\\Lib\\site-packages\\sklearn\\base.py:493: UserWarning: X does not have valid feature names, but DecisionTreeClassifier was fitted with feature names\n",
      "  warnings.warn(\n"
     ]
    }
   ],
   "source": [
    "data = [[717.5, 0, 86, True, 0.04, 0, 0, 1, 0, 0]]\n",
    "input_data = np.array(data).reshape(1, -1)\n",
    "print(input_data)\n",
    "output = model.predict(input_data)\n",
    "print(output[0])"
   ]
  }
 ],
 "metadata": {
  "kernelspec": {
   "display_name": "amlEnv",
   "language": "python",
   "name": "python3"
  },
  "language_info": {
   "codemirror_mode": {
    "name": "ipython",
    "version": 3
   },
   "file_extension": ".py",
   "mimetype": "text/x-python",
   "name": "python",
   "nbconvert_exporter": "python",
   "pygments_lexer": "ipython3",
   "version": "3.11.8"
  }
 },
 "nbformat": 4,
 "nbformat_minor": 2
}
